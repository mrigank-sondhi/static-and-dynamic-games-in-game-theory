{
 "cells": [
  {
   "cell_type": "code",
   "execution_count": 1,
   "metadata": {
    "colab": {},
    "colab_type": "code",
    "id": "vDUwerlDI5AS"
   },
   "outputs": [],
   "source": [
    "%matplotlib inline\n",
    "\n",
    "import nashpy as nash\n",
    "import axelrod as axl\n",
    "import numpy as np\n",
    "import matplotlib.pyplot as plt"
   ]
  },
  {
   "cell_type": "markdown",
   "metadata": {},
   "source": [
    "# Analyzing Static Games"
   ]
  },
  {
   "cell_type": "markdown",
   "metadata": {
    "colab_type": "text",
    "id": "fKYKZgVyI5AR"
   },
   "source": [
    "## 1. Game 1\n",
    "\n",
    "### The Prisoner's Dilemma\n",
    "\n",
    "![picture](https://drive.google.com/uc?id=1fw7j7O8XLGQR3Rt_c9UK_PE6KgLsFeEw)\n"
   ]
  },
  {
   "cell_type": "markdown",
   "metadata": {},
   "source": [
    "#### 1) Creating the Game"
   ]
  },
  {
   "cell_type": "code",
   "execution_count": 2,
   "metadata": {
    "colab": {},
    "colab_type": "code",
    "id": "D-rB1BgYI5Aa"
   },
   "outputs": [
    {
     "name": "stdout",
     "output_type": "stream",
     "text": [
      "Bi matrix game with payoff matrices:\n",
      "\n",
      "Row player:\n",
      "[[ 8  1]\n",
      " [15  3]]\n",
      "\n",
      "Column player:\n",
      "[[ 8 15]\n",
      " [ 1  3]]\n"
     ]
    }
   ],
   "source": [
    "#P1 is the row player\n",
    "#P2 is the column player\n",
    "#A greater number denotes a better payoff\n",
    "\n",
    "P1 = np.array([[8,1],[15,3]])  \n",
    "P2 = np.array([[8,15],[1,3]])\n",
    "\n",
    "game1 = nash.Game(P1,P2) \n",
    "print(game1)"
   ]
  },
  {
   "cell_type": "markdown",
   "metadata": {},
   "source": [
    "#### 2) Calculating Utilities"
   ]
  },
  {
   "cell_type": "markdown",
   "metadata": {},
   "source": [
    "##### Considering the following Mixed Strategy:\n",
    "sigma_r and sigma_c are the probabilities of the players choosing the respective strategy.\n",
    "\n",
    "sigma_r = (0.3,0.7) and sigma_c = (0.1,0.9)"
   ]
  },
  {
   "cell_type": "code",
   "execution_count": 3,
   "metadata": {
    "scrolled": true
   },
   "outputs": [
    {
     "name": "stdout",
     "output_type": "stream",
     "text": [
      "[3.45 6.25]\n"
     ]
    }
   ],
   "source": [
    "sigma_r = np.array([0.3,0.7]) \n",
    "sigma_c = np.array([0.1,0.9])\n",
    "\n",
    "print(game1[sigma_r, sigma_c])"
   ]
  },
  {
   "cell_type": "code",
   "execution_count": 4,
   "metadata": {},
   "outputs": [
    {
     "name": "stdout",
     "output_type": "stream",
     "text": [
      "3.45\n",
      "6.25\n"
     ]
    }
   ],
   "source": [
    "#evaluating manually\n",
    "\n",
    "#utility_r\n",
    "utility_r = (0.3*0.1*8) + (0.3*0.9*1) + (0.7*0.1*15) + (0.7*0.9*3)\n",
    "print('%.2f' %utility_r)\n",
    "\n",
    "#utility_c\n",
    "utility_c = (0.3*0.1*8) + (0.3*0.9*15) + (0.7*0.1*1) + (0.7*0.9*3)\n",
    "print('%.2f' %utility_c)"
   ]
  },
  {
   "cell_type": "markdown",
   "metadata": {
    "colab_type": "text",
    "id": "sF4K0KlOI5A7"
   },
   "source": [
    "#### 3) Calculating Equilibria\n",
    "\n",
    "There exists a strict and unique Pure Strategy Nash Equilibrium.\n",
    "\n",
    "![picture](https://drive.google.com/uc?id=1_B9Wk5Sb1jwK1AADXR1xj9n0tmALNykM)"
   ]
  },
  {
   "cell_type": "code",
   "execution_count": 5,
   "metadata": {
    "colab": {},
    "colab_type": "code",
    "id": "H9mFNqgOI5A8"
   },
   "outputs": [
    {
     "name": "stdout",
     "output_type": "stream",
     "text": [
      "(array([0., 1.]), array([0., 1.]))\n"
     ]
    }
   ],
   "source": [
    "#Finding the equilibria\n",
    "\n",
    "equilibria = game1.support_enumeration()\n",
    "for eq in equilibria:\n",
    "    print(eq)"
   ]
  },
  {
   "cell_type": "markdown",
   "metadata": {},
   "source": [
    "##### Therefore, Player 1 follows strategy B with probability 1 and Player 2 follows strategy B with probability 1 as well under the equilibrium."
   ]
  },
  {
   "cell_type": "markdown",
   "metadata": {
    "colab_type": "text",
    "id": "fKYKZgVyI5AR"
   },
   "source": [
    "## 2. Game 2\n",
    "\n",
    "![picture](https://drive.google.com/uc?id=1eHhyXZVZWQ3oPto4qcbL1EefxUsWq4bp)\n"
   ]
  },
  {
   "cell_type": "markdown",
   "metadata": {},
   "source": [
    "#### 1) Creating the Game"
   ]
  },
  {
   "cell_type": "code",
   "execution_count": 6,
   "metadata": {
    "colab": {},
    "colab_type": "code",
    "id": "D-rB1BgYI5Aa"
   },
   "outputs": [
    {
     "name": "stdout",
     "output_type": "stream",
     "text": [
      "Bi matrix game with payoff matrices:\n",
      "\n",
      "Row player:\n",
      "[[ 5 17]\n",
      " [14 12]]\n",
      "\n",
      "Column player:\n",
      "[[15 16]\n",
      " [ 2  8]]\n"
     ]
    }
   ],
   "source": [
    "#P1 is the row player\n",
    "#P2 is the column player\n",
    "#A greater number denotes a better payoff\n",
    "\n",
    "P1 = np.array([[5,17],[14,12]])\n",
    "P2 = np.array([[15,16],[2,8]])\n",
    "\n",
    "game2 = nash.Game(P1, P2)\n",
    "print(game2)"
   ]
  },
  {
   "cell_type": "markdown",
   "metadata": {},
   "source": [
    "#### 2) Calculating Utilities"
   ]
  },
  {
   "cell_type": "markdown",
   "metadata": {},
   "source": [
    "##### Considering the following Mixed Strategy:\n",
    "sigma_r and sigma_c are the probabilities of the players choosing the respective strategy.\n",
    "\n",
    "sigma_r = (0.6,0.4) and sigma_c = (0.8,0.2)"
   ]
  },
  {
   "cell_type": "code",
   "execution_count": 7,
   "metadata": {
    "scrolled": true
   },
   "outputs": [
    {
     "name": "stdout",
     "output_type": "stream",
     "text": [
      "[ 9.88 10.4 ]\n"
     ]
    }
   ],
   "source": [
    "sigma_r = np.array([0.6,0.4]) \n",
    "sigma_c = np.array([0.8,0.2])\n",
    "\n",
    "print(game2[sigma_r, sigma_c])"
   ]
  },
  {
   "cell_type": "code",
   "execution_count": 8,
   "metadata": {},
   "outputs": [
    {
     "name": "stdout",
     "output_type": "stream",
     "text": [
      "9.88\n",
      "10.40\n"
     ]
    }
   ],
   "source": [
    "#evaluating manually\n",
    "\n",
    "#utility_r\n",
    "utility_r = (0.6*0.8*5) + (0.6*0.2*17) + (0.4*0.8*14) + (0.4*0.2*12)\n",
    "print('%.2f' %utility_r)\n",
    "\n",
    "#utility_c\n",
    "utility_c = (0.6*0.8*15) + (0.6*0.2*16) + (0.4*0.8*2) + (0.4*0.2*8)\n",
    "print('%.2f' %utility_c)"
   ]
  },
  {
   "cell_type": "markdown",
   "metadata": {
    "colab_type": "text",
    "id": "sF4K0KlOI5A7"
   },
   "source": [
    "#### 3) Calculating Equilibria\n",
    "\n",
    "There exists a strict and unique Pure Strategy Nash Equilibrium."
   ]
  },
  {
   "cell_type": "code",
   "execution_count": 9,
   "metadata": {
    "colab": {},
    "colab_type": "code",
    "id": "H9mFNqgOI5A8"
   },
   "outputs": [
    {
     "name": "stdout",
     "output_type": "stream",
     "text": [
      "(array([1., 0.]), array([0., 1.]))\n"
     ]
    }
   ],
   "source": [
    "#Finding the equilibria\n",
    "\n",
    "equilibria = game2.support_enumeration()\n",
    "for eq in equilibria:\n",
    "    print(eq)"
   ]
  },
  {
   "cell_type": "markdown",
   "metadata": {
    "colab_type": "text",
    "id": "fKYKZgVyI5AR"
   },
   "source": [
    "## 3. Game 3\n",
    "\n",
    "### The Hawk - Dove Game\n",
    "\n",
    "![picture](https://drive.google.com/uc?id=1b8kKho3qu1s5b7Qriq6NYWqJxd5uKI6x)"
   ]
  },
  {
   "cell_type": "markdown",
   "metadata": {},
   "source": [
    "#### 1) Creating the Game"
   ]
  },
  {
   "cell_type": "code",
   "execution_count": 10,
   "metadata": {
    "colab": {},
    "colab_type": "code",
    "id": "D-rB1BgYI5Aa"
   },
   "outputs": [
    {
     "name": "stdout",
     "output_type": "stream",
     "text": [
      "Bi matrix game with payoff matrices:\n",
      "\n",
      "Row player:\n",
      "[[3 1]\n",
      " [4 0]]\n",
      "\n",
      "Column player:\n",
      "[[3 4]\n",
      " [1 0]]\n"
     ]
    }
   ],
   "source": [
    "#P1 is the row player\n",
    "#P2 is the column player\n",
    "#A greater number denotes a better payoff\n",
    "\n",
    "P1 = np.array([[3,1],[4,0]])\n",
    "P2 = np.array([[3,4],[1,0]])\n",
    "\n",
    "game3 = nash.Game(P1, P2)\n",
    "print(game3)"
   ]
  },
  {
   "cell_type": "markdown",
   "metadata": {
    "colab_type": "text",
    "id": "sF4K0KlOI5A7"
   },
   "source": [
    "#### 2) Calculating Equilibria\n",
    "\n",
    "There exist two strict Pure Strategy Nash Equilibria and one Mixed Strategy Nash Equilibrium.\n",
    "\n",
    "![picture](https://drive.google.com/uc?id=1JJxdwZ3y6U_hxMH-0l4i6LpuuTVhF5w0)"
   ]
  },
  {
   "cell_type": "code",
   "execution_count": 11,
   "metadata": {
    "colab": {},
    "colab_type": "code",
    "id": "BiVKP_72I5BL"
   },
   "outputs": [
    {
     "name": "stdout",
     "output_type": "stream",
     "text": [
      "(array([1., 0.]), array([0., 1.]))\n",
      "(array([0., 1.]), array([1., 0.]))\n",
      "(array([0.5, 0.5]), array([0.5, 0.5]))\n"
     ]
    }
   ],
   "source": [
    "equilibria = game3.support_enumeration()\n",
    "\n",
    "for eq in equilibria:\n",
    "    print(eq)"
   ]
  },
  {
   "cell_type": "markdown",
   "metadata": {},
   "source": [
    "#### 3) Calculating the Mixed Strategy Nash Equilibrium payoffs"
   ]
  },
  {
   "cell_type": "markdown",
   "metadata": {},
   "source": [
    "##### Mixed Strategy Nash Equilibrium probabilities as obtained above:\n",
    "sigma_r and sigma_c are the probabilities of the players choosing the respective strategy.\n",
    "\n",
    "sigma_r = (0.5,0.5) and sigma_c = (0.5,0.5)"
   ]
  },
  {
   "cell_type": "code",
   "execution_count": 12,
   "metadata": {
    "scrolled": true
   },
   "outputs": [
    {
     "name": "stdout",
     "output_type": "stream",
     "text": [
      "[2. 2.]\n"
     ]
    }
   ],
   "source": [
    "sigma_r = np.array([0.5,0.5]) \n",
    "sigma_c = np.array([0.5,0.5])\n",
    "\n",
    "print(game3[sigma_r, sigma_c])"
   ]
  },
  {
   "cell_type": "code",
   "execution_count": 13,
   "metadata": {},
   "outputs": [
    {
     "name": "stdout",
     "output_type": "stream",
     "text": [
      "2.00\n",
      "2.00\n"
     ]
    }
   ],
   "source": [
    "#evaluating manually\n",
    "\n",
    "#utility_r\n",
    "utility_r = (0.5*0.5*3) + (0.5*0.5*1) + (0.5*0.5*4) + (0.5*0.5*0)\n",
    "print('%.2f' %utility_r)\n",
    "\n",
    "#utility_c\n",
    "utility_c = (0.5*0.5*3) + (0.5*0.5*4) + (0.5*0.5*1) + (0.5*0.5*0)\n",
    "print('%.2f' %utility_c)"
   ]
  },
  {
   "cell_type": "markdown",
   "metadata": {
    "colab_type": "text",
    "id": "fKYKZgVyI5AR"
   },
   "source": [
    "## 4. Game 4\n",
    "\n",
    "![picture](https://drive.google.com/uc?id=1mAeVXw3qHTyzEx4kgMsOlyrP6rJvpKlN)"
   ]
  },
  {
   "cell_type": "markdown",
   "metadata": {},
   "source": [
    "#### 1) Creating the Game"
   ]
  },
  {
   "cell_type": "code",
   "execution_count": 14,
   "metadata": {
    "colab": {},
    "colab_type": "code",
    "id": "D-rB1BgYI5Aa"
   },
   "outputs": [
    {
     "name": "stdout",
     "output_type": "stream",
     "text": [
      "Bi matrix game with payoff matrices:\n",
      "\n",
      "Row player:\n",
      "[[1 1 3 2]\n",
      " [2 3 4 3]\n",
      " [5 1 1 4]]\n",
      "\n",
      "Column player:\n",
      "[[3 2 2 4]\n",
      " [1 4 2 0]\n",
      " [3 3 2 3]]\n"
     ]
    }
   ],
   "source": [
    "#P1 is the row player\n",
    "#P2 is the column player\n",
    "#A greater number denotes a better payoff\n",
    "\n",
    "P1 = np.array([[1,1,3,2],[2,3,4,3],[5,1,1,4]])\n",
    "P2 = np.array([[3,2,2,4],[1,4,2,0],[3,3,2,3]])\n",
    "\n",
    "game4 = nash.Game(P1, P2)\n",
    "print(game4)"
   ]
  },
  {
   "cell_type": "markdown",
   "metadata": {
    "colab_type": "text",
    "id": "sF4K0KlOI5A7"
   },
   "source": [
    "#### 2) Calculating Equilibria\n",
    "\n",
    "There exist three strict Pure Strategy Nash Equilibria.\n",
    "\n",
    "![picture](https://drive.google.com/uc?id=11UeEgrEh4VYWYAMwyvwLVGZlHT7On2Eo)"
   ]
  },
  {
   "cell_type": "code",
   "execution_count": 15,
   "metadata": {
    "colab": {},
    "colab_type": "code",
    "id": "BiVKP_72I5BL"
   },
   "outputs": [
    {
     "name": "stdout",
     "output_type": "stream",
     "text": [
      "(array([0., 1., 0.]), array([0., 1., 0., 0.]))\n",
      "(array([0., 0., 1.]), array([1., 0., 0., 0.]))\n",
      "(array([0., 0., 1.]), array([0., 0., 0., 1.]))\n"
     ]
    }
   ],
   "source": [
    "equilibria = game4.support_enumeration()\n",
    "\n",
    "for eq in equilibria:\n",
    "    print(eq)"
   ]
  },
  {
   "cell_type": "markdown",
   "metadata": {
    "colab_type": "text",
    "id": "fKYKZgVyI5AR"
   },
   "source": [
    "## 5. Game 5\n",
    "\n",
    "### Zero-Sum Game\n",
    "### Matching the Pennies\n",
    "\n",
    "![picture](https://drive.google.com/uc?id=1DJhLFiRbUah8Cvku03oGP5C2eFuDPxBQ)"
   ]
  },
  {
   "cell_type": "markdown",
   "metadata": {},
   "source": [
    "#### 1) Creating the Game"
   ]
  },
  {
   "cell_type": "code",
   "execution_count": 16,
   "metadata": {
    "colab": {},
    "colab_type": "code",
    "id": "D-rB1BgYI5Aa"
   },
   "outputs": [
    {
     "name": "stdout",
     "output_type": "stream",
     "text": [
      "Zero sum game with payoff matrices:\n",
      "\n",
      "Row player:\n",
      "[[ 1 -1]\n",
      " [-1  1]]\n",
      "\n",
      "Column player:\n",
      "[[-1  1]\n",
      " [ 1 -1]]\n"
     ]
    }
   ],
   "source": [
    "#P1 is the row player\n",
    "#(P1)' is the column player\n",
    "#A greater number denotes a better payoff\n",
    "\n",
    "P1 = np.array([[1,-1],[-1,1]]) \n",
    "\n",
    "#zero-sum games can be initialized with the pay-offs of one player only\n",
    "game5 = nash.Game(P1) \n",
    "print(game5)"
   ]
  },
  {
   "cell_type": "markdown",
   "metadata": {
    "colab_type": "text",
    "id": "sF4K0KlOI5A7"
   },
   "source": [
    "#### 2) Calculating Equilibria\n",
    "\n",
    "There exists one Mixed Strategy Nash Equilibrium."
   ]
  },
  {
   "cell_type": "code",
   "execution_count": 17,
   "metadata": {
    "colab": {},
    "colab_type": "code",
    "id": "BiVKP_72I5BL"
   },
   "outputs": [
    {
     "name": "stdout",
     "output_type": "stream",
     "text": [
      "(array([0.5, 0.5]), array([0.5, 0.5]))\n"
     ]
    }
   ],
   "source": [
    "equilibria = game5.support_enumeration()\n",
    "for eq in equilibria:\n",
    "    print(eq)"
   ]
  },
  {
   "cell_type": "markdown",
   "metadata": {
    "colab_type": "text",
    "id": "fKYKZgVyI5AR"
   },
   "source": [
    "## 6. Game 6"
   ]
  },
  {
   "cell_type": "markdown",
   "metadata": {},
   "source": [
    "#### 1) Creating the Game"
   ]
  },
  {
   "cell_type": "code",
   "execution_count": 18,
   "metadata": {
    "colab": {},
    "colab_type": "code",
    "id": "D-rB1BgYI5Aa"
   },
   "outputs": [
    {
     "name": "stdout",
     "output_type": "stream",
     "text": [
      "Zero sum game with payoff matrices:\n",
      "\n",
      "Row player:\n",
      "[[ 5.  -7.5]\n",
      " [-3.5  4. ]]\n",
      "\n",
      "Column player:\n",
      "[[-5.   7.5]\n",
      " [ 3.5 -4. ]]\n"
     ]
    }
   ],
   "source": [
    "#P1 is the row player\n",
    "#(P1)' is the column player\n",
    "#A greater number denotes a better payoff\n",
    "\n",
    "P1 = np.array([[5,-7.5],[-3.5,4]])\n",
    "\n",
    "game6 = nash.Game(P1)\n",
    "print(game6)"
   ]
  },
  {
   "cell_type": "markdown",
   "metadata": {
    "colab_type": "text",
    "id": "sF4K0KlOI5A7"
   },
   "source": [
    "#### 2) Calculating Equilibria\n",
    "\n",
    "There exists one Mixed Strategy Nash Equilibrium."
   ]
  },
  {
   "cell_type": "code",
   "execution_count": 19,
   "metadata": {
    "colab": {},
    "colab_type": "code",
    "id": "BiVKP_72I5BL"
   },
   "outputs": [
    {
     "name": "stdout",
     "output_type": "stream",
     "text": [
      "(array([0.375, 0.625]), array([0.575, 0.425]))\n"
     ]
    }
   ],
   "source": [
    "equilibria = game6.support_enumeration()\n",
    "\n",
    "for eq in equilibria:\n",
    "    print(eq)"
   ]
  },
  {
   "cell_type": "markdown",
   "metadata": {
    "colab_type": "text",
    "id": "eVM0LDlfI5Br"
   },
   "source": [
    "# Analyzing Dynamic Games"
   ]
  },
  {
   "cell_type": "markdown",
   "metadata": {
    "colab": {},
    "colab_type": "code",
    "id": "-qiWUNZ2I5Bs"
   },
   "source": [
    "### Axelrod Tournament (Robert Axelrod)\n",
    "### Finding the best strategy to play in an iterated prisoner's dilemma. \n",
    "#### Examples of strategies: Cooperator, Defector, Alternator, Tit-for-Tat, Joss, Grudger, Adaptive, Random"
   ]
  },
  {
   "cell_type": "code",
   "execution_count": 20,
   "metadata": {
    "colab": {},
    "colab_type": "code",
    "id": "InpWBSpII5Bx"
   },
   "outputs": [
    {
     "data": {
      "text/plain": [
       "[axelrod.strategies.memoryone.ALLCorALLD,\n",
       " axelrod.strategies.memorytwo.AON2,\n",
       " axelrod.strategies.apavlov.APavlov2006,\n",
       " axelrod.strategies.apavlov.APavlov2011,\n",
       " axelrod.strategies.adaptive.Adaptive,\n",
       " axelrod.strategies.titfortat.AdaptiveTitForTat,\n",
       " axelrod.strategies.adaptor.AdaptorBrief,\n",
       " axelrod.strategies.adaptor.AdaptorLong,\n",
       " axelrod.strategies.grudger.Aggravater,\n",
       " axelrod.strategies.titfortat.Alexei,\n",
       " axelrod.strategies.alternator.Alternator,\n",
       " axelrod.strategies.hunter.AlternatorHunter,\n",
       " axelrod.strategies.cycler.AntiCycler,\n",
       " axelrod.strategies.titfortat.AntiTitForTat,\n",
       " axelrod.strategies.appeaser.Appeaser,\n",
       " axelrod.strategies.qlearner.ArrogantQLearner,\n",
       " axelrod.strategies.averagecopier.AverageCopier,\n",
       " axelrod.strategies.backstabber.BackStabber,\n",
       " axelrod.strategies.better_and_better.BetterAndBetter,\n",
       " axelrod.strategies.titfortat.Bully,\n",
       " axelrod.strategies.bush_mosteller.BushMosteller,\n",
       " axelrod.strategies.calculator.Calculator,\n",
       " axelrod.strategies.qlearner.CautiousQLearner,\n",
       " axelrod.strategies.prober.CollectiveStrategy,\n",
       " axelrod.strategies.titfortat.ContriteTitForTat,\n",
       " axelrod.strategies.cooperator.Cooperator,\n",
       " axelrod.strategies.hunter.CooperatorHunter,\n",
       " axelrod.strategies.hunter.CycleHunter,\n",
       " axelrod.strategies.cycler.CyclerCCCCCD,\n",
       " axelrod.strategies.cycler.CyclerCCCD,\n",
       " axelrod.strategies.cycler.CyclerCCCDCD,\n",
       " axelrod.strategies.cycler.CyclerCCD,\n",
       " axelrod.strategies.cycler.CyclerDC,\n",
       " axelrod.strategies.cycler.CyclerDDC,\n",
       " axelrod.strategies.dbs.DBS,\n",
       " axelrod.strategies.darwin.Darwin,\n",
       " axelrod.strategies.defector.Defector,\n",
       " axelrod.strategies.hunter.DefectorHunter,\n",
       " axelrod.strategies.memorytwo.DelayedAON1,\n",
       " axelrod.strategies.mutual.Desperate,\n",
       " axelrod.strategies.prober.Detective,\n",
       " axelrod.strategies.backstabber.DoubleCrosser,\n",
       " axelrod.strategies.resurrection.DoubleResurrection,\n",
       " axelrod.strategies.doubler.Doubler,\n",
       " axelrod.strategies.titfortat.DynamicTwoTitsForTat,\n",
       " axelrod.strategies.grudger.EasyGo,\n",
       " axelrod.strategies.titfortat.EugineNier,\n",
       " axelrod.strategies.hunter.EventualCycleHunter,\n",
       " axelrod.strategies.ann.EvolvedANN,\n",
       " axelrod.strategies.ann.EvolvedANN5,\n",
       " axelrod.strategies.ann.EvolvedANNNoise05,\n",
       " axelrod.strategies.finite_state_machines.EvolvedFSM16,\n",
       " axelrod.strategies.finite_state_machines.EvolvedFSM16Noise05,\n",
       " axelrod.strategies.finite_state_machines.EvolvedFSM4,\n",
       " axelrod.strategies.finite_state_machines.EvolvedFSM6,\n",
       " axelrod.strategies.hmm.EvolvedHMM5,\n",
       " axelrod.strategies.lookerup.EvolvedLookerUp1_1_1,\n",
       " axelrod.strategies.lookerup.EvolvedLookerUp2_2_2,\n",
       " axelrod.strategies.memoryone.FirmButFair,\n",
       " axelrod.strategies.axelrod_first.FirstByAnonymous,\n",
       " axelrod.strategies.axelrod_first.FirstByDavis,\n",
       " axelrod.strategies.axelrod_first.FirstByDowning,\n",
       " axelrod.strategies.axelrod_first.FirstByFeld,\n",
       " axelrod.strategies.axelrod_first.FirstByGraaskamp,\n",
       " axelrod.strategies.axelrod_first.FirstByGrofman,\n",
       " axelrod.strategies.axelrod_first.FirstByJoss,\n",
       " axelrod.strategies.axelrod_first.FirstByNydegger,\n",
       " axelrod.strategies.axelrod_first.FirstByShubik,\n",
       " axelrod.strategies.axelrod_first.FirstBySteinAndRapoport,\n",
       " axelrod.strategies.axelrod_first.FirstByTidemanAndChieruzzi,\n",
       " axelrod.strategies.axelrod_first.FirstByTullock,\n",
       " axelrod.strategies.oncebitten.FoolMeOnce,\n",
       " axelrod.strategies.oncebitten.ForgetfulFoolMeOnce,\n",
       " axelrod.strategies.grudger.ForgetfulGrudger,\n",
       " axelrod.strategies.forgiver.Forgiver,\n",
       " axelrod.strategies.forgiver.ForgivingTitForTat,\n",
       " axelrod.strategies.finite_state_machines.Fortress3,\n",
       " axelrod.strategies.finite_state_machines.Fortress4,\n",
       " axelrod.strategies.memoryone.GTFT,\n",
       " axelrod.strategies.grudger.GeneralSoftGrudger,\n",
       " axelrod.strategies.gobymajority.GoByMajority,\n",
       " axelrod.strategies.gobymajority.GoByMajority10,\n",
       " axelrod.strategies.gobymajority.GoByMajority20,\n",
       " axelrod.strategies.gobymajority.GoByMajority40,\n",
       " axelrod.strategies.gobymajority.GoByMajority5,\n",
       " axelrod.strategies.mathematicalconstants.Golden,\n",
       " axelrod.strategies.titfortat.Gradual,\n",
       " axelrod.strategies.gradualkiller.GradualKiller,\n",
       " axelrod.strategies.grudger.Grudger,\n",
       " axelrod.strategies.grudger.GrudgerAlternator,\n",
       " axelrod.strategies.grumpy.Grumpy,\n",
       " axelrod.strategies.handshake.Handshake,\n",
       " axelrod.strategies.gobymajority.HardGoByMajority,\n",
       " axelrod.strategies.gobymajority.HardGoByMajority10,\n",
       " axelrod.strategies.gobymajority.HardGoByMajority20,\n",
       " axelrod.strategies.gobymajority.HardGoByMajority40,\n",
       " axelrod.strategies.gobymajority.HardGoByMajority5,\n",
       " axelrod.strategies.prober.HardProber,\n",
       " axelrod.strategies.titfortat.HardTitFor2Tats,\n",
       " axelrod.strategies.titfortat.HardTitForTat,\n",
       " axelrod.strategies.qlearner.HesitantQLearner,\n",
       " axelrod.strategies.mutual.Hopeless,\n",
       " axelrod.strategies.inverse.Inverse,\n",
       " axelrod.strategies.punisher.InversePunisher,\n",
       " axelrod.strategies.worse_and_worse.KnowledgeableWorseAndWorse,\n",
       " axelrod.strategies.punisher.LevelPunisher,\n",
       " axelrod.strategies.retaliate.LimitedRetaliate,\n",
       " axelrod.strategies.retaliate.LimitedRetaliate2,\n",
       " axelrod.strategies.retaliate.LimitedRetaliate3,\n",
       " axelrod.strategies.memorytwo.MEM2,\n",
       " axelrod.strategies.hunter.MathConstantHunter,\n",
       " axelrod.strategies.titfortat.Michaelos,\n",
       " axelrod.strategies.titfortat.NTitsForMTats,\n",
       " axelrod.strategies.prober.NaiveProber,\n",
       " axelrod.strategies.negation.Negation,\n",
       " axelrod.strategies.averagecopier.NiceAverageCopier,\n",
       " axelrod.strategies.titfortat.OmegaTFT,\n",
       " axelrod.strategies.oncebitten.OnceBitten,\n",
       " axelrod.strategies.grudger.OppositeGrudger,\n",
       " axelrod.strategies.titfortat.OriginalGradual,\n",
       " axelrod.strategies.gambler.PSOGambler1_1_1,\n",
       " axelrod.strategies.gambler.PSOGambler2_2_2,\n",
       " axelrod.strategies.gambler.PSOGambler2_2_2_Noise05,\n",
       " axelrod.strategies.gambler.PSOGamblerMem1,\n",
       " axelrod.strategies.mathematicalconstants.Pi,\n",
       " axelrod.strategies.finite_state_machines.Predator,\n",
       " axelrod.strategies.prober.Prober,\n",
       " axelrod.strategies.prober.Prober2,\n",
       " axelrod.strategies.prober.Prober3,\n",
       " axelrod.strategies.prober.Prober4,\n",
       " axelrod.strategies.finite_state_machines.Pun1,\n",
       " axelrod.strategies.punisher.Punisher,\n",
       " axelrod.strategies.finite_state_machines.Raider,\n",
       " axelrod.strategies.rand.Random,\n",
       " axelrod.strategies.hunter.RandomHunter,\n",
       " axelrod.strategies.titfortat.RandomTitForTat,\n",
       " axelrod.strategies.prober.RemorsefulProber,\n",
       " axelrod.strategies.resurrection.Resurrection,\n",
       " axelrod.strategies.retaliate.Retaliate,\n",
       " axelrod.strategies.retaliate.Retaliate2,\n",
       " axelrod.strategies.retaliate.Retaliate3,\n",
       " axelrod.strategies.revised_downing.RevisedDowning,\n",
       " axelrod.strategies.finite_state_machines.Ripoff,\n",
       " axelrod.strategies.qlearner.RiskyQLearner,\n",
       " axelrod.strategies.axelrod_second.SecondByAppold,\n",
       " axelrod.strategies.axelrod_second.SecondByBlack,\n",
       " axelrod.strategies.axelrod_second.SecondByBorufsen,\n",
       " axelrod.strategies.axelrod_second.SecondByCave,\n",
       " axelrod.strategies.axelrod_second.SecondByChampion,\n",
       " axelrod.strategies.axelrod_second.SecondByColbert,\n",
       " axelrod.strategies.axelrod_second.SecondByEatherley,\n",
       " axelrod.strategies.axelrod_second.SecondByGetzler,\n",
       " axelrod.strategies.axelrod_second.SecondByGladstein,\n",
       " axelrod.strategies.axelrod_second.SecondByGraaskampKatzen,\n",
       " axelrod.strategies.axelrod_second.SecondByGrofman,\n",
       " axelrod.strategies.axelrod_second.SecondByHarrington,\n",
       " axelrod.strategies.axelrod_second.SecondByKluepfel,\n",
       " axelrod.strategies.axelrod_second.SecondByLeyvraz,\n",
       " axelrod.strategies.axelrod_second.SecondByMikkelson,\n",
       " axelrod.strategies.axelrod_second.SecondByRichardHufford,\n",
       " axelrod.strategies.axelrod_second.SecondByRowsam,\n",
       " axelrod.strategies.axelrod_second.SecondByTester,\n",
       " axelrod.strategies.axelrod_second.SecondByTidemanAndChieruzzi,\n",
       " axelrod.strategies.axelrod_second.SecondByTranquilizer,\n",
       " axelrod.strategies.axelrod_second.SecondByWeiner,\n",
       " axelrod.strategies.axelrod_second.SecondByWhite,\n",
       " axelrod.strategies.axelrod_second.SecondByWmAdams,\n",
       " axelrod.strategies.axelrod_second.SecondByYamachi,\n",
       " axelrod.strategies.selfsteem.SelfSteem,\n",
       " axelrod.strategies.shortmem.ShortMem,\n",
       " axelrod.strategies.titfortat.SlowTitForTwoTats2,\n",
       " axelrod.strategies.titfortat.SneakyTitForTat,\n",
       " axelrod.strategies.grudger.SoftGrudger,\n",
       " axelrod.strategies.memoryone.SoftJoss,\n",
       " axelrod.strategies.finite_state_machines.SolutionB1,\n",
       " axelrod.strategies.finite_state_machines.SolutionB5,\n",
       " axelrod.strategies.titfortat.SpitefulTitForTat,\n",
       " axelrod.strategies.grudger.SpitefulCC,\n",
       " axelrod.strategies.stalker.Stalker,\n",
       " axelrod.strategies.memoryone.StochasticCooperator,\n",
       " axelrod.strategies.memoryone.StochasticWSLS,\n",
       " axelrod.strategies.titfortat.SuspiciousTitForTat,\n",
       " axelrod.strategies.finite_state_machines.TF1,\n",
       " axelrod.strategies.finite_state_machines.TF2,\n",
       " axelrod.strategies.finite_state_machines.TF3,\n",
       " axelrod.strategies.sequence_player.ThueMorse,\n",
       " axelrod.strategies.sequence_player.ThueMorseInverse,\n",
       " axelrod.strategies.finite_state_machines.Thumper,\n",
       " axelrod.strategies.titfortat.TitFor2Tats,\n",
       " axelrod.strategies.titfortat.TitForTat,\n",
       " axelrod.strategies.cooperator.TrickyCooperator,\n",
       " axelrod.strategies.defector.TrickyDefector,\n",
       " axelrod.strategies.punisher.TrickyLevelPunisher,\n",
       " axelrod.strategies.titfortat.TwoTitsForTat,\n",
       " axelrod.strategies.finite_state_machines.UsuallyCooperates,\n",
       " axelrod.strategies.finite_state_machines.UsuallyDefects,\n",
       " axelrod.strategies.verybad.VeryBad,\n",
       " axelrod.strategies.mutual.Willing,\n",
       " axelrod.strategies.memoryone.WinShiftLoseStay,\n",
       " axelrod.strategies.memoryone.WinStayLoseShift,\n",
       " axelrod.strategies.lookerup.Winner12,\n",
       " axelrod.strategies.lookerup.Winner21,\n",
       " axelrod.strategies.worse_and_worse.WorseAndWorse,\n",
       " axelrod.strategies.worse_and_worse.WorseAndWorse2,\n",
       " axelrod.strategies.worse_and_worse.WorseAndWorse3,\n",
       " axelrod.strategies.zero_determinant.ZDExtort2,\n",
       " axelrod.strategies.zero_determinant.ZDExtort2v2,\n",
       " axelrod.strategies.zero_determinant.ZDExtort3,\n",
       " axelrod.strategies.zero_determinant.ZDExtort4,\n",
       " axelrod.strategies.zero_determinant.ZDExtortion,\n",
       " axelrod.strategies.zero_determinant.ZDGTFT2,\n",
       " axelrod.strategies.zero_determinant.ZDGen2,\n",
       " axelrod.strategies.gambler.ZDMem2,\n",
       " axelrod.strategies.zero_determinant.ZDMischief,\n",
       " axelrod.strategies.zero_determinant.ZDSet2,\n",
       " axelrod.strategies.mathematicalconstants.e,\n",
       " axelrod.strategies.meta.MemoryDecay,\n",
       " axelrod.strategies.meta.MetaHunter,\n",
       " axelrod.strategies.meta.MetaHunterAggressive,\n",
       " axelrod.strategies.meta.MetaMajority,\n",
       " axelrod.strategies.meta.MetaMajorityMemoryOne,\n",
       " axelrod.strategies.meta.MetaMajorityFiniteMemory,\n",
       " axelrod.strategies.meta.MetaMajorityLongMemory,\n",
       " axelrod.strategies.meta.MetaMinority,\n",
       " axelrod.strategies.meta.MetaMixer,\n",
       " axelrod.strategies.meta.MetaWinner,\n",
       " axelrod.strategies.meta.MetaWinnerDeterministic,\n",
       " axelrod.strategies.meta.MetaWinnerEnsemble,\n",
       " axelrod.strategies.meta.MetaWinnerMemoryOne,\n",
       " axelrod.strategies.meta.MetaWinnerFiniteMemory,\n",
       " axelrod.strategies.meta.MetaWinnerLongMemory,\n",
       " axelrod.strategies.meta.MetaWinnerStochastic,\n",
       " axelrod.strategies.meta.NMWEDeterministic,\n",
       " axelrod.strategies.meta.NMWEFiniteMemory,\n",
       " axelrod.strategies.meta.NMWELongMemory,\n",
       " axelrod.strategies.meta.NMWEMemoryOne,\n",
       " axelrod.strategies.meta.NMWEStochastic,\n",
       " axelrod.strategies.meta.NiceMetaWinner,\n",
       " axelrod.strategies.meta.NiceMetaWinnerEnsemble]"
      ]
     },
     "execution_count": 20,
     "metadata": {},
     "output_type": "execute_result"
    }
   ],
   "source": [
    "#Checking all the strategies available\n",
    "\n",
    "axl.all_strategies"
   ]
  },
  {
   "cell_type": "code",
   "execution_count": 21,
   "metadata": {},
   "outputs": [
    {
     "name": "stdout",
     "output_type": "stream",
     "text": [
      "Axelrod game: (R,P,S,T) = (3, 1, 0, 5)\n"
     ]
    }
   ],
   "source": [
    "#The Axelrod package has the Prisoner's Dilemma built-in with the following payoffs\n",
    "\n",
    "players = (axl.Random(), axl.Random())\n",
    "match =  axl.Match(players, turns = 10)\n",
    "\n",
    "print(match.game)"
   ]
  },
  {
   "cell_type": "markdown",
   "metadata": {},
   "source": [
    "#### The payoffs above are commonly referred to as:\n",
    "\n",
    "##### R: Reward (default value in the package: 3) [C-C]\n",
    "##### P: Punishment (default value in the package: 1) [D-D]\n",
    "##### S: Sucker (default value in the package: 0) [C-D]\n",
    "##### T: Temptation (default value in the package: 5) [D-C]\n",
    "\n",
    "#### The inequality between the payoffs for a Prisoner's Dilemma to hold is: T > R > P > S"
   ]
  },
  {
   "cell_type": "markdown",
   "metadata": {},
   "source": [
    "## 1. Match 1"
   ]
  },
  {
   "cell_type": "markdown",
   "metadata": {},
   "source": [
    "#### 1) Creating the Match"
   ]
  },
  {
   "cell_type": "code",
   "execution_count": 22,
   "metadata": {
    "colab": {},
    "colab_type": "code",
    "id": "xAlZskFMI5Bv",
    "scrolled": true
   },
   "outputs": [
    {
     "name": "stdout",
     "output_type": "stream",
     "text": [
      "(C, C)\n",
      "(C, D)\n",
      "(C, C)\n",
      "(C, D)\n",
      "(C, C)\n",
      "(C, D)\n",
      "(C, C)\n",
      "(C, D)\n",
      "(C, C)\n",
      "(C, D)\n",
      "(C, C)\n",
      "(C, D)\n",
      "(C, C)\n",
      "(C, D)\n",
      "(C, C)\n",
      "(C, D)\n",
      "(C, C)\n",
      "(C, D)\n",
      "(C, C)\n",
      "(C, D)\n",
      "(C, C)\n",
      "(C, D)\n",
      "(C, C)\n",
      "(C, D)\n",
      "(C, C)\n",
      "(C, D)\n",
      "(C, C)\n",
      "(C, D)\n",
      "(C, C)\n",
      "(C, D)\n",
      "(C, C)\n",
      "(C, D)\n",
      "(C, C)\n",
      "(C, D)\n",
      "(C, C)\n",
      "(C, D)\n",
      "(C, C)\n",
      "(C, D)\n",
      "(C, C)\n",
      "(C, D)\n",
      "(C, C)\n",
      "(C, D)\n",
      "(C, C)\n",
      "(C, D)\n",
      "(C, C)\n",
      "(C, D)\n",
      "(C, C)\n",
      "(C, D)\n",
      "(C, C)\n",
      "(C, D)\n"
     ]
    }
   ],
   "source": [
    "#A match denotes a game being played multiple times\n",
    "\n",
    "#Using players who follow the Cooperator and Alternator strategies\n",
    "#Cooperator: Always cooperates.\n",
    "#Alternator: Alternates between cooperation and defection.\n",
    "players = (axl.Cooperator(), axl.Alternator())                   \n",
    "\n",
    "#play for 50 turns\n",
    "match1 = axl.Match(players, turns = 50)                              \n",
    "\n",
    "for turn in match1.play():\n",
    "    print(turn)"
   ]
  },
  {
   "cell_type": "markdown",
   "metadata": {
    "colab_type": "text",
    "id": "8hZOv2xQI5B_"
   },
   "source": [
    "#### 2) Analyzing the Match"
   ]
  },
  {
   "cell_type": "code",
   "execution_count": 23,
   "metadata": {
    "colab": {},
    "colab_type": "code",
    "id": "zCkP68lJI5CF"
   },
   "outputs": [
    {
     "name": "stdout",
     "output_type": "stream",
     "text": [
      "██████████████████████████████████████████████████\n",
      "█ █ █ █ █ █ █ █ █ █ █ █ █ █ █ █ █ █ █ █ █ █ █ █ █ \n"
     ]
    }
   ],
   "source": [
    "#Viewing the result as sparklines \n",
    "#Cooperation is shown as a black block, defection is shown as a white block \n",
    "\n",
    "#Row-1 is for the first player - Cooperator\n",
    "#Row-2 is for the second player - Alternator\n",
    "\n",
    "print(match1.sparklines())"
   ]
  },
  {
   "cell_type": "code",
   "execution_count": 24,
   "metadata": {
    "colab": {},
    "colab_type": "code",
    "id": "xs7rQEyZI5CC",
    "scrolled": false
   },
   "outputs": [
    {
     "name": "stdout",
     "output_type": "stream",
     "text": [
      "Turn 1 : (3, 3)\n",
      "Turn 2 : (0, 5)\n",
      "Turn 3 : (3, 3)\n",
      "Turn 4 : (0, 5)\n",
      "Turn 5 : (3, 3)\n",
      "Turn 6 : (0, 5)\n",
      "Turn 7 : (3, 3)\n",
      "Turn 8 : (0, 5)\n",
      "Turn 9 : (3, 3)\n",
      "Turn 10 : (0, 5)\n",
      "Turn 11 : (3, 3)\n",
      "Turn 12 : (0, 5)\n",
      "Turn 13 : (3, 3)\n",
      "Turn 14 : (0, 5)\n",
      "Turn 15 : (3, 3)\n",
      "Turn 16 : (0, 5)\n",
      "Turn 17 : (3, 3)\n",
      "Turn 18 : (0, 5)\n",
      "Turn 19 : (3, 3)\n",
      "Turn 20 : (0, 5)\n",
      "Turn 21 : (3, 3)\n",
      "Turn 22 : (0, 5)\n",
      "Turn 23 : (3, 3)\n",
      "Turn 24 : (0, 5)\n",
      "Turn 25 : (3, 3)\n",
      "Turn 26 : (0, 5)\n",
      "Turn 27 : (3, 3)\n",
      "Turn 28 : (0, 5)\n",
      "Turn 29 : (3, 3)\n",
      "Turn 30 : (0, 5)\n",
      "Turn 31 : (3, 3)\n",
      "Turn 32 : (0, 5)\n",
      "Turn 33 : (3, 3)\n",
      "Turn 34 : (0, 5)\n",
      "Turn 35 : (3, 3)\n",
      "Turn 36 : (0, 5)\n",
      "Turn 37 : (3, 3)\n",
      "Turn 38 : (0, 5)\n",
      "Turn 39 : (3, 3)\n",
      "Turn 40 : (0, 5)\n",
      "Turn 41 : (3, 3)\n",
      "Turn 42 : (0, 5)\n",
      "Turn 43 : (3, 3)\n",
      "Turn 44 : (0, 5)\n",
      "Turn 45 : (3, 3)\n",
      "Turn 46 : (0, 5)\n",
      "Turn 47 : (3, 3)\n",
      "Turn 48 : (0, 5)\n",
      "Turn 49 : (3, 3)\n",
      "Turn 50 : (0, 5)\n",
      "Final Score : (75, 200)\n"
     ]
    }
   ],
   "source": [
    "#Scores of the match\n",
    "\n",
    "i = 1;\n",
    "for turn in match1.scores():\n",
    "    print(\"Turn\", i, \":\", turn)\n",
    "    i+=1;\n",
    "    \n",
    "print(\"Final Score :\", match1.final_score())"
   ]
  },
  {
   "cell_type": "markdown",
   "metadata": {},
   "source": [
    "## 2. Match 2"
   ]
  },
  {
   "cell_type": "markdown",
   "metadata": {},
   "source": [
    "#### 1) Creating the Match"
   ]
  },
  {
   "cell_type": "code",
   "execution_count": 25,
   "metadata": {
    "colab": {},
    "colab_type": "code",
    "id": "xAlZskFMI5Bv",
    "scrolled": true
   },
   "outputs": [
    {
     "name": "stdout",
     "output_type": "stream",
     "text": [
      "(C, C)\n",
      "(C, C)\n",
      "(C, C)\n",
      "(C, C)\n",
      "(C, C)\n",
      "(C, C)\n",
      "(C, C)\n",
      "(C, C)\n",
      "(C, C)\n",
      "(C, C)\n",
      "(C, C)\n",
      "(D, C)\n",
      "(C, D)\n",
      "(D, D)\n",
      "(D, D)\n",
      "(D, D)\n",
      "(D, D)\n",
      "(D, D)\n",
      "(D, D)\n",
      "(D, D)\n",
      "(D, D)\n",
      "(D, D)\n",
      "(D, D)\n",
      "(D, D)\n",
      "(D, D)\n",
      "(D, D)\n",
      "(D, D)\n",
      "(D, D)\n",
      "(D, D)\n",
      "(D, D)\n",
      "(D, D)\n",
      "(D, D)\n",
      "(D, D)\n",
      "(D, D)\n",
      "(D, D)\n",
      "(D, D)\n",
      "(D, D)\n",
      "(D, D)\n",
      "(D, D)\n",
      "(D, D)\n",
      "(D, D)\n",
      "(D, D)\n",
      "(D, D)\n",
      "(D, D)\n",
      "(D, D)\n",
      "(D, D)\n",
      "(D, D)\n",
      "(D, D)\n",
      "(D, D)\n",
      "(D, D)\n"
     ]
    }
   ],
   "source": [
    "#A match denotes a game being played multiple times\n",
    "\n",
    "#Using players who follow the Joss and Grudger strategies\n",
    "#FirstByJoss: This rule cooperates 90% of the time after a cooperation by the other. It always defects after a defection by the other.\n",
    "#Grudger: A player starts by cooperating however will defect if at any point the opponent has defected.\n",
    "players = (axl.FirstByJoss(), axl.Grudger())                   \n",
    "\n",
    "#play for 50 turns\n",
    "match2 = axl.Match(players, turns = 50)                              \n",
    "\n",
    "for turn in match2.play():\n",
    "    print(turn)"
   ]
  },
  {
   "cell_type": "markdown",
   "metadata": {
    "colab_type": "text",
    "id": "8hZOv2xQI5B_"
   },
   "source": [
    "#### 2) Analyzing the Match"
   ]
  },
  {
   "cell_type": "code",
   "execution_count": 26,
   "metadata": {
    "colab": {},
    "colab_type": "code",
    "id": "zCkP68lJI5CF",
    "scrolled": true
   },
   "outputs": [
    {
     "name": "stdout",
     "output_type": "stream",
     "text": [
      "███████████ █                                     \n",
      "████████████                                      \n"
     ]
    }
   ],
   "source": [
    "#Viewing the result as sparklines \n",
    "#Cooperation is shown as a black block, defection is shown as a white block \n",
    "\n",
    "#Row-1 is for the first player - FirstByJoss\n",
    "#Row-2 is for the second player - Grudger\n",
    "\n",
    "print(match2.sparklines())"
   ]
  },
  {
   "cell_type": "code",
   "execution_count": 27,
   "metadata": {
    "colab": {},
    "colab_type": "code",
    "id": "xs7rQEyZI5CC",
    "scrolled": true
   },
   "outputs": [
    {
     "name": "stdout",
     "output_type": "stream",
     "text": [
      "Turn 1 : (3, 3)\n",
      "Turn 2 : (3, 3)\n",
      "Turn 3 : (3, 3)\n",
      "Turn 4 : (3, 3)\n",
      "Turn 5 : (3, 3)\n",
      "Turn 6 : (3, 3)\n",
      "Turn 7 : (3, 3)\n",
      "Turn 8 : (3, 3)\n",
      "Turn 9 : (3, 3)\n",
      "Turn 10 : (3, 3)\n",
      "Turn 11 : (3, 3)\n",
      "Turn 12 : (5, 0)\n",
      "Turn 13 : (0, 5)\n",
      "Turn 14 : (1, 1)\n",
      "Turn 15 : (1, 1)\n",
      "Turn 16 : (1, 1)\n",
      "Turn 17 : (1, 1)\n",
      "Turn 18 : (1, 1)\n",
      "Turn 19 : (1, 1)\n",
      "Turn 20 : (1, 1)\n",
      "Turn 21 : (1, 1)\n",
      "Turn 22 : (1, 1)\n",
      "Turn 23 : (1, 1)\n",
      "Turn 24 : (1, 1)\n",
      "Turn 25 : (1, 1)\n",
      "Turn 26 : (1, 1)\n",
      "Turn 27 : (1, 1)\n",
      "Turn 28 : (1, 1)\n",
      "Turn 29 : (1, 1)\n",
      "Turn 30 : (1, 1)\n",
      "Turn 31 : (1, 1)\n",
      "Turn 32 : (1, 1)\n",
      "Turn 33 : (1, 1)\n",
      "Turn 34 : (1, 1)\n",
      "Turn 35 : (1, 1)\n",
      "Turn 36 : (1, 1)\n",
      "Turn 37 : (1, 1)\n",
      "Turn 38 : (1, 1)\n",
      "Turn 39 : (1, 1)\n",
      "Turn 40 : (1, 1)\n",
      "Turn 41 : (1, 1)\n",
      "Turn 42 : (1, 1)\n",
      "Turn 43 : (1, 1)\n",
      "Turn 44 : (1, 1)\n",
      "Turn 45 : (1, 1)\n",
      "Turn 46 : (1, 1)\n",
      "Turn 47 : (1, 1)\n",
      "Turn 48 : (1, 1)\n",
      "Turn 49 : (1, 1)\n",
      "Turn 50 : (1, 1)\n",
      "Final Score : (75, 75)\n"
     ]
    }
   ],
   "source": [
    "#Scores of the match\n",
    "\n",
    "i = 1;\n",
    "for turn in match2.scores():\n",
    "    print(\"Turn\", i, \":\", turn)\n",
    "    i+=1;\n",
    "    \n",
    "print(\"Final Score :\", match2.final_score())"
   ]
  },
  {
   "cell_type": "markdown",
   "metadata": {},
   "source": [
    "## 3. Match 3"
   ]
  },
  {
   "cell_type": "markdown",
   "metadata": {},
   "source": [
    "#### 1) Creating the Match"
   ]
  },
  {
   "cell_type": "code",
   "execution_count": 28,
   "metadata": {
    "colab": {},
    "colab_type": "code",
    "id": "xAlZskFMI5Bv",
    "scrolled": true
   },
   "outputs": [
    {
     "name": "stdout",
     "output_type": "stream",
     "text": [
      "(C, C)\n",
      "(C, C)\n",
      "(C, C)\n",
      "(C, C)\n",
      "(C, C)\n",
      "(C, C)\n",
      "(C, D)\n",
      "(D, D)\n",
      "(D, D)\n",
      "(D, D)\n",
      "(D, D)\n",
      "(D, C)\n",
      "(C, C)\n",
      "(C, C)\n",
      "(C, C)\n",
      "(C, C)\n",
      "(C, C)\n",
      "(C, C)\n",
      "(C, C)\n",
      "(C, C)\n",
      "(C, C)\n",
      "(C, C)\n",
      "(C, C)\n",
      "(C, C)\n",
      "(C, C)\n",
      "(C, C)\n",
      "(C, C)\n",
      "(C, C)\n",
      "(C, C)\n",
      "(C, C)\n",
      "(C, C)\n",
      "(C, C)\n",
      "(C, C)\n",
      "(C, C)\n",
      "(C, C)\n",
      "(C, C)\n",
      "(C, C)\n",
      "(C, C)\n",
      "(C, C)\n",
      "(C, C)\n",
      "(C, C)\n",
      "(C, C)\n",
      "(C, C)\n",
      "(C, C)\n",
      "(C, C)\n",
      "(C, C)\n",
      "(C, C)\n",
      "(C, C)\n",
      "(C, C)\n",
      "(C, C)\n"
     ]
    }
   ],
   "source": [
    "#A match denotes a game being played multiple times\n",
    "\n",
    "#Using players who follow the TitForTat and Adaptive strategies\n",
    "#TitForTat: A player starts by cooperating and then mimics the previous action of the opponent.\n",
    "#Adaptive: Start with a specific sequence of C and D, then play the strategy that has worked best, recalculated each turn.\n",
    "players = (axl.TitForTat(), axl.Adaptive())                   \n",
    "\n",
    "#play for 50 turns\n",
    "match3 = axl.Match(players, turns = 50)                              \n",
    "\n",
    "for turn in match3.play():\n",
    "    print(turn)"
   ]
  },
  {
   "cell_type": "markdown",
   "metadata": {
    "colab_type": "text",
    "id": "8hZOv2xQI5B_"
   },
   "source": [
    "#### 2) Analyzing the Match"
   ]
  },
  {
   "cell_type": "code",
   "execution_count": 29,
   "metadata": {
    "colab": {},
    "colab_type": "code",
    "id": "zCkP68lJI5CF"
   },
   "outputs": [
    {
     "name": "stdout",
     "output_type": "stream",
     "text": [
      "███████     ██████████████████████████████████████\n",
      "██████     ███████████████████████████████████████\n"
     ]
    }
   ],
   "source": [
    "#Viewing the result as sparklines \n",
    "#Cooperation is shown as a black block, defection is shown as a white block \n",
    "\n",
    "#Row-1 is for the first player - TitForTat\n",
    "#Row-2 is for the second player - Adaptive\n",
    "\n",
    "print(match3.sparklines())"
   ]
  },
  {
   "cell_type": "code",
   "execution_count": 30,
   "metadata": {
    "colab": {},
    "colab_type": "code",
    "id": "xs7rQEyZI5CC",
    "scrolled": true
   },
   "outputs": [
    {
     "name": "stdout",
     "output_type": "stream",
     "text": [
      "Turn 1 : (3, 3)\n",
      "Turn 2 : (3, 3)\n",
      "Turn 3 : (3, 3)\n",
      "Turn 4 : (3, 3)\n",
      "Turn 5 : (3, 3)\n",
      "Turn 6 : (3, 3)\n",
      "Turn 7 : (0, 5)\n",
      "Turn 8 : (1, 1)\n",
      "Turn 9 : (1, 1)\n",
      "Turn 10 : (1, 1)\n",
      "Turn 11 : (1, 1)\n",
      "Turn 12 : (5, 0)\n",
      "Turn 13 : (3, 3)\n",
      "Turn 14 : (3, 3)\n",
      "Turn 15 : (3, 3)\n",
      "Turn 16 : (3, 3)\n",
      "Turn 17 : (3, 3)\n",
      "Turn 18 : (3, 3)\n",
      "Turn 19 : (3, 3)\n",
      "Turn 20 : (3, 3)\n",
      "Turn 21 : (3, 3)\n",
      "Turn 22 : (3, 3)\n",
      "Turn 23 : (3, 3)\n",
      "Turn 24 : (3, 3)\n",
      "Turn 25 : (3, 3)\n",
      "Turn 26 : (3, 3)\n",
      "Turn 27 : (3, 3)\n",
      "Turn 28 : (3, 3)\n",
      "Turn 29 : (3, 3)\n",
      "Turn 30 : (3, 3)\n",
      "Turn 31 : (3, 3)\n",
      "Turn 32 : (3, 3)\n",
      "Turn 33 : (3, 3)\n",
      "Turn 34 : (3, 3)\n",
      "Turn 35 : (3, 3)\n",
      "Turn 36 : (3, 3)\n",
      "Turn 37 : (3, 3)\n",
      "Turn 38 : (3, 3)\n",
      "Turn 39 : (3, 3)\n",
      "Turn 40 : (3, 3)\n",
      "Turn 41 : (3, 3)\n",
      "Turn 42 : (3, 3)\n",
      "Turn 43 : (3, 3)\n",
      "Turn 44 : (3, 3)\n",
      "Turn 45 : (3, 3)\n",
      "Turn 46 : (3, 3)\n",
      "Turn 47 : (3, 3)\n",
      "Turn 48 : (3, 3)\n",
      "Turn 49 : (3, 3)\n",
      "Turn 50 : (3, 3)\n",
      "Final Score : (141, 141)\n"
     ]
    }
   ],
   "source": [
    "#Scores of the match\n",
    "\n",
    "i = 1;\n",
    "for turn in match3.scores():\n",
    "    print(\"Turn\", i, \":\", turn)\n",
    "    i+=1;\n",
    "    \n",
    "print(\"Final Score :\", match3.final_score())"
   ]
  },
  {
   "cell_type": "markdown",
   "metadata": {},
   "source": [
    "# Analyzing a Tournament\n",
    "\n",
    "### Players use the strategies analysed above as well as some others. Each player plays against itself and all others."
   ]
  },
  {
   "cell_type": "markdown",
   "metadata": {},
   "source": [
    "#### 1) Creating the Tournament"
   ]
  },
  {
   "cell_type": "code",
   "execution_count": 31,
   "metadata": {},
   "outputs": [
    {
     "name": "stderr",
     "output_type": "stream",
     "text": [
      "Playing matches: 100%|█████████████████████████████████████████████████████████████████| 36/36 [00:00<00:00, 77.10it/s]\n",
      "Analysing: 100%|███████████████████████████████████████████████████████████████████████| 25/25 [00:00<00:00, 65.11it/s]\n"
     ]
    }
   ],
   "source": [
    "players = [axl.TitForTat(), axl.FirstByJoss(), axl.Alternator(), axl.Adaptive(), axl.Cooperator(), axl.Defector(), axl.Grudger(), axl.Random()]\n",
    "tournament = axl.Tournament(players, turns=20, repetitions=10)\n",
    "results = tournament.play()"
   ]
  },
  {
   "cell_type": "markdown",
   "metadata": {},
   "source": [
    "#### 2) Visualising the Results (Score)"
   ]
  },
  {
   "cell_type": "code",
   "execution_count": 32,
   "metadata": {},
   "outputs": [
    {
     "name": "stdout",
     "output_type": "stream",
     "text": [
      "The strategies are ranked as follows:\n",
      "1 : Grudger\n",
      "2 : Defector\n",
      "3 : Tit For Tat\n",
      "4 : Adaptive\n",
      "5 : First by Joss: 0.9\n",
      "6 : Alternator\n",
      "7 : Random: 0.5\n",
      "8 : Cooperator\n"
     ]
    }
   ],
   "source": [
    "i = 1\n",
    "print(\"The strategies are ranked as follows:\")\n",
    "for strategy in results.ranked_names:\n",
    "    print(i, \":\", strategy)\n",
    "    i+=1"
   ]
  },
  {
   "cell_type": "code",
   "execution_count": 33,
   "metadata": {},
   "outputs": [
    {
     "data": {
      "image/png": "[encoded data removed]",
      "text/plain": [
       "<Figure size 864x432 with 1 Axes>"
      ]
     },
     "metadata": {
      "needs_background": "light"
     },
     "output_type": "display_data"
    }
   ],
   "source": [
    "#The following plot shows the distribution of the score(payoff) scored by each strategy, along with the median score shown as a solid line\n",
    "\n",
    "plot = axl.Plot(results)\n",
    "_, ax = plt.subplots()\n",
    "title = ax.set_title('Score (Payoff)')\n",
    "xlabel = ax.set_xlabel('Strategies')\n",
    "p = plot.boxplot(ax=ax)\n",
    "#p.show()"
   ]
  },
  {
   "cell_type": "markdown",
   "metadata": {},
   "source": [
    "#### 3) Visualising the Results (Wins)"
   ]
  },
  {
   "cell_type": "code",
   "execution_count": 34,
   "metadata": {},
   "outputs": [
    {
     "data": {
      "image/png": "[encoded data removed]",
      "text/plain": [
       "<Figure size 864x432 with 1 Axes>"
      ]
     },
     "metadata": {
      "needs_background": "light"
     },
     "output_type": "display_data"
    }
   ],
   "source": [
    "#The following plot shows the distribution of wins for each strategy\n",
    "\n",
    "_, ax = plt.subplots()\n",
    "title = ax.set_title('Wins')\n",
    "xlabel = ax.set_xlabel('Strategies')\n",
    "p = plot.winplot(ax=ax)\n",
    "#p.show()"
   ]
  },
  {
   "cell_type": "markdown",
   "metadata": {},
   "source": [
    "#### 4) Visualising the Results (Payoff Matrix)"
   ]
  },
  {
   "cell_type": "code",
   "execution_count": 35,
   "metadata": {},
   "outputs": [
    {
     "data": {
      "image/png": "[encoded data removed]",
      "text/plain": [
       "<Figure size 864x864 with 2 Axes>"
      ]
     },
     "metadata": {
      "needs_background": "light"
     },
     "output_type": "display_data"
    }
   ],
   "source": [
    "#The following plot shows the payoff matrix of each strategy, against each strategy\n",
    "\n",
    "p = plot.payoff()\n",
    "#p.show()"
   ]
  },
  {
   "cell_type": "markdown",
   "metadata": {
    "colab_type": "text",
    "id": "B9h2o5YmI5CP"
   },
   "source": [
    "#### References:\n",
    "\n",
    "Package Documentations:\n",
    "\n",
    "https://nashpy.readthedocs.io/en/stable/\n",
    "\n",
    "https://axelrod.readthedocs.io/en/stable/"
   ]
  }
 ],
 "metadata": {
  "colab": {
   "collapsed_sections": [],
   "name": "game-theory-with-python-notebook.ipynb",
   "provenance": []
  },
  "kernelspec": {
   "display_name": "Python 3",
   "language": "python",
   "name": "python3"
  },
  "language_info": {
   "codemirror_mode": {
    "name": "ipython",
    "version": 3
   },
   "file_extension": ".py",
   "mimetype": "text/x-python",
   "name": "python",
   "nbconvert_exporter": "python",
   "pygments_lexer": "ipython3",
   "version": "3.7.10"
  }
 },
 "nbformat": 4,
 "nbformat_minor": 1
}
